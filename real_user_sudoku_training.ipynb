{
 "cells": [
  {
   "cell_type": "code",
   "execution_count": 1,
   "id": "95c86dae6b2c3790",
   "metadata": {
    "ExecuteTime": {
     "end_time": "2025-05-01T10:57:05.326667Z",
     "start_time": "2025-05-01T10:57:05.324291Z"
    }
   },
   "outputs": [],
   "source": [
    "import pandas as pd\n",
    "import json\n",
    "from utils.constants import OBJECTIVES_SUDOKU\n",
    "from utils.utils import load_sudokus_from_json, create_folders\n",
    "from utils.utils_classes import Oracle\n",
    "from utils.utils_training import PreferenceElicitationFramework\n",
    "from utils.utils_classes import Human\n",
    "from utils.utils_sudoku import generate_steps_sudoku\n",
    "import ast\n",
    "import numpy as np\n",
    "from tqdm import tqdm\n",
    "from utils.utils import count_and_remove_matching_hints"
   ]
  },
  {
   "cell_type": "code",
   "execution_count": 2,
   "id": "85b5d64bd5192c2f",
   "metadata": {
    "ExecuteTime": {
     "end_time": "2025-05-01T10:57:05.642520Z",
     "start_time": "2025-05-01T10:57:05.639228Z"
    }
   },
   "outputs": [],
   "source": [
    "lr = 0.5\n",
    "initial_weights = dict.fromkeys(OBJECTIVES_SUDOKU, 1)\n",
    "normalization = 2\n",
    "steps = 'SMUS'"
   ]
  },
  {
   "cell_type": "code",
   "execution_count": 3,
   "id": "8d330c5796d67fb1",
   "metadata": {
    "ExecuteTime": {
     "end_time": "2025-05-01T10:57:10.757660Z",
     "start_time": "2025-05-01T10:57:06.102359Z"
    }
   },
   "outputs": [
    {
     "name": "stdin",
     "output_type": "stream",
     "text": [
      "Enter your username:  marco\n"
     ]
    },
    {
     "name": "stdout",
     "output_type": "stream",
     "text": [
      "Username entered: marco\n"
     ]
    }
   ],
   "source": [
    "username = input(\"Enter your username: \")\n",
    "if not username.strip():\n",
    "    print(\"Username is required!\")\n",
    "else:\n",
    "    print(f\"Username entered: {username}\")"
   ]
  },
  {
   "cell_type": "code",
   "execution_count": 4,
   "id": "9ca833711a2700b6",
   "metadata": {
    "ExecuteTime": {
     "end_time": "2025-05-01T10:57:12.923016Z",
     "start_time": "2025-05-01T10:57:12.792946Z"
    }
   },
   "outputs": [],
   "source": [
    "sudokus = load_sudokus_from_json()\n",
    "\n",
    "steps_sudokus = []\n",
    "for index in range(15):\n",
    "    steps_single_sudoku = []\n",
    "    df_steps = pd.read_csv(f'data/gt_sudoku/SMUS/sudoku_user_SMUS_sudoku_{index}.csv',index_col=False)\n",
    "    for index, row in df_steps.iterrows():\n",
    "        grid = np.fromstring(row['grid'].replace(\"[\", \"\").replace(\"]\", \"\"), sep=\" \").astype(int).reshape(9, 9)\n",
    "        r,c = ast.literal_eval(row['hint_derived'])[1][:2]\n",
    "        steps_single_sudoku.append([grid,[r,c]])\n",
    "    steps_sudokus.append(steps_single_sudoku)\n",
    "\n",
    "\n",
    "weights = dict.fromkeys(OBJECTIVES_SUDOKU, 1)\n",
    "\n",
    "\n",
    "\n",
    "oracle = Human()\n",
    "output_location_machop = f'results/sudoku/real_case_{username}_{lr}_MACHOP/'\n",
    "output_location_baseline = f'results/sudoku/real_case_{username}_{lr}_baseline/'"
   ]
  },
  {
   "cell_type": "code",
   "execution_count": 6,
   "id": "91080568-ba67-4d21-a692-0ae8d0c3002b",
   "metadata": {},
   "outputs": [
    {
     "name": "stderr",
     "output_type": "stream",
     "text": [
      "Labelling progress: 100%|██████████████████████████████████████████████████████████████████████████████████████████████████████████████████████████████████████████████████████████████████| 50/50 [01:52<00:00,  2.25s/it]\n"
     ]
    }
   ],
   "source": [
    "user = 0\n",
    "df_steps_evaluation = ''\n",
    "pef = PreferenceElicitationFramework(logic_puzzles_set=sudokus, oracle=oracle, no_oracle=user,\n",
    "                                     initial_weights=initial_weights, instance_evaluation=sudokus[30],\n",
    "                                     df_steps_evaluation=df_steps_evaluation, output_location=output_location_machop,\n",
    "                                     time_eval=150,max_data=50,\n",
    "                                     normalized=normalization, batch_size=1, frozen_steps=steps_sudokus,\n",
    "                                     lr=lr, type_diversification='cpucb_disjunction', custom_tuner=None,\n",
    "                                     exploration_root=1)\n",
    "learned_weights  = pef.start()"
   ]
  },
  {
   "cell_type": "code",
   "execution_count": 7,
   "id": "dc1dd34b-5f0f-470e-95d3-90f34b680f07",
   "metadata": {
    "ExecuteTime": {
     "end_time": "2025-04-29T14:48:20.355925Z",
     "start_time": "2025-04-29T14:48:20.057806Z"
    }
   },
   "outputs": [
    {
     "name": "stderr",
     "output_type": "stream",
     "text": [
      "Labelling progress: 100%|██████████████████████████████████████████████████████████████████████████████████████████████████████████████████████████████████████████████████████████████████| 50/50 [02:55<00:00,  3.51s/it]\n"
     ]
    }
   ],
   "source": [
    "user = 0\n",
    "df_steps_evaluation = ''\n",
    "pef = PreferenceElicitationFramework(logic_puzzles_set=sudokus, oracle=oracle, no_oracle=user,\n",
    "                                     initial_weights=initial_weights, instance_evaluation=sudokus[30],\n",
    "                                     df_steps_evaluation=df_steps_evaluation, output_location=output_location_baseline,\n",
    "                                     time_eval=150,max_data=50,\n",
    "                                     normalized=normalization, batch_size=1, frozen_steps=steps_sudokus,\n",
    "                                     lr=lr, type_diversification='baseline', custom_tuner=None,\n",
    "                                     exploration_root=1)\n",
    "learned_weights  = pef.start()"
   ]
  },
  {
   "cell_type": "code",
   "execution_count": 12,
   "id": "fe1a7a02-3d69-4e2b-ae75-ccd634a504da",
   "metadata": {
    "ExecuteTime": {
     "end_time": "2025-05-01T10:56:27.171665Z",
     "start_time": "2025-05-01T10:56:27.168913Z"
    }
   },
   "outputs": [],
   "source": [
    "def get_weights_norm_steps(step):\n",
    "    df_weights_machop = pd.read_csv(f'{output_location_machop}weights.csv')\n",
    "    df_norm_machop = pd.read_csv(f'{output_location_machop}norm.csv')\n",
    "\n",
    "\n",
    "    weights_column = df_weights_machop['weights']\n",
    "    last_value_str = weights_column.iloc[step-1]\n",
    "    weights_machop = ast.literal_eval(last_value_str)\n",
    "\n",
    "    weights_column = df_norm_machop['norm']\n",
    "    last_value_str = weights_column.iloc[step-1]\n",
    "    norm_machop = ast.literal_eval(last_value_str)\n",
    "\n",
    "\n",
    "\n",
    "    df_weights_baseline = pd.read_csv(f'{output_location_baseline}weights.csv')\n",
    "    df_norm_baseline = pd.read_csv(f'{output_location_baseline}norm.csv')\n",
    "\n",
    "    weights_column = df_weights_baseline['weights']\n",
    "    last_value_str = weights_column.iloc[step-1]\n",
    "    weights_baseline = ast.literal_eval(last_value_str)\n",
    "\n",
    "    weights_column = df_norm_baseline['norm']\n",
    "    last_value_str = weights_column.iloc[step-1]\n",
    "    norm_baseline = ast.literal_eval(last_value_str)\n",
    "\n",
    "    return weights_machop,norm_machop,weights_baseline,norm_baseline\n"
   ]
  },
  {
   "cell_type": "code",
   "execution_count": 13,
   "id": "e7ee185a-54be-4f91-a055-91a6f2da1a39",
   "metadata": {
    "ExecuteTime": {
     "end_time": "2025-05-01T10:56:54.275711Z",
     "start_time": "2025-05-01T10:56:54.147283Z"
    }
   },
   "outputs": [
    {
     "name": "stderr",
     "output_type": "stream",
     "text": [
      "100%|██████████████████████████████████████████████████████████████████████████████████████████████████████████████████████████████████████████████████████████████████████████████████████| 56/56 [02:26<00:00,  2.61s/it]\n"
     ]
    }
   ],
   "source": [
    "for step in [10,30,50]:\n",
    "    weights_machop,norm_machop,weights_baseline,norm_baseline = get_weights_norm_steps(step)\n",
    "    df_steps_evaluation = pd.read_csv('data/gt_sudoku/sudoku_gt_SMUS_sudoku_30.csv')\n",
    "    predicted = []\n",
    "    for index, row in tqdm(df_steps_evaluation.iterrows(), total=len(df_steps_evaluation)):\n",
    "        sudoku_eval = row['grid'].replace(' ', ', ')\n",
    "        sudoku_eval = np.array(eval(sudoku_eval))\n",
    "        parsed_list = eval(row['hint_derived'])\n",
    "        explained_row = parsed_list[1][0]\n",
    "        explained_col = parsed_list[1][1]\n",
    "        exp,_,_ = generate_steps_sudoku(to_return=True, grid=sudoku_eval,\n",
    "                                        feature_weights=weights_machop,no_user=1,\n",
    "                                        sequential_sudoku=-1,normalization=norm_machop,\n",
    "                                        is_tqdm=False)\n",
    "        predicted.append(exp)\n",
    "\n",
    "    df_predicted_steps = pd.DataFrame(predicted)\n",
    "    df_predicted_steps.to_csv(f'results/sudoku/real_case_{username}_{lr}_MACHOP/machop_SMUS_{step}.csv', index=False)"
   ]
  },
  {
   "cell_type": "code",
   "execution_count": 14,
   "id": "37136ada-acd1-4de5-80b0-8aa580314355",
   "metadata": {},
   "outputs": [
    {
     "name": "stderr",
     "output_type": "stream",
     "text": [
      "100%|██████████████████████████████████████████████████████████████████████████████████████████████████████████████████████████████████████████████████████████████████████████████████████| 56/56 [03:24<00:00,  3.66s/it]\n",
      "100%|███████████████████████████████████████████████████████████████████████████████████████████████████████████████████████████████████████████████████████████████████████████████████████████████| 56/56 [03:28<00:00,  3.72s/it]\n",
      "100%|██████████████████████████████████████████████████████████████████████████████████████████████████████████████████████████████████████████████████████████████████████████████████████| 56/56 [02:52<00:00,  3.09s/it]\n"
     ]
    }
   ],
   "source": [
    "for step in [10,30,50]:\n",
    "    weights_machop,norm_machop,weights_baseline,norm_baseline = get_weights_norm_steps(step)\n",
    "    df_steps_evaluation = pd.read_csv('data/gt_sudoku/sudoku_gt_SMUS_sudoku_30.csv')\n",
    "    predicted = []\n",
    "    for index, row in tqdm(df_steps_evaluation.iterrows(), total=len(df_steps_evaluation)):\n",
    "        sudoku_eval = row['grid'].replace(' ', ', ')\n",
    "        sudoku_eval = np.array(eval(sudoku_eval))\n",
    "        parsed_list = eval(row['hint_derived'])\n",
    "        explained_row = parsed_list[1][0]\n",
    "        explained_col = parsed_list[1][1]\n",
    "        exp,_,_ = generate_steps_sudoku(to_return=True, grid=sudoku_eval,\n",
    "                                        feature_weights=weights_baseline,no_user=1,\n",
    "                                        sequential_sudoku=-1,normalization=norm_baseline,\n",
    "                                        is_tqdm=False)\n",
    "        predicted.append(exp)\n",
    "\n",
    "    df_predicted_steps = pd.DataFrame(predicted)\n",
    "    df_predicted_steps.to_csv(f'results/sudoku/real_case_{username}_{lr}_baseline/baseline_SMUS_{step}.csv', index=False)"
   ]
  },
  {
   "cell_type": "code",
   "execution_count": 5,
   "id": "63bf0a84-be0c-4406-b18e-a2c2db8a8c14",
   "metadata": {
    "ExecuteTime": {
     "end_time": "2025-05-01T10:56:47.834550Z",
     "start_time": "2025-05-01T10:56:47.244915Z"
    }
   },
   "outputs": [],
   "source": [
    "dict_df = {}\n",
    "for step in [10,30,50]:\n",
    "    df_smus = pd.read_csv('data/gt_sudoku/sudoku_gt_SMUS_sudoku_30.csv')\n",
    "    df_learnt_baseline = pd.read_csv(f'results/sudoku/real_case_{username}_{lr}_baseline/baseline_SMUS_{step}.csv')\n",
    "    df_learnt_machop = pd.read_csv(f'results/sudoku/real_case_{username}_{lr}_MACHOP/machop_SMUS_{step}.csv')\n",
    "    dict_df[step] = [df_smus, df_learnt_baseline, df_learnt_machop]"
   ]
  },
  {
   "cell_type": "code",
   "execution_count": 6,
   "id": "e5a116a4-accf-463f-a051-7341f17e6fa1",
   "metadata": {
    "ExecuteTime": {
     "end_time": "2025-04-30T12:57:25.131519Z",
     "start_time": "2025-04-30T12:57:25.076511Z"
    }
   },
   "outputs": [
    {
     "name": "stderr",
     "output_type": "stream",
     "text": [
      "  2%|███▉                                                                                                                                                                                   | 1/47 [00:06<04:52,  6.37s/it]\n"
     ]
    },
    {
     "ename": "ValueError",
     "evalue": "invalid literal for int() with base 10: 'a'",
     "output_type": "error",
     "traceback": [
      "\u001b[0;31m---------------------------------------------------------------------------\u001b[0m",
      "\u001b[0;31mValueError\u001b[0m                                Traceback (most recent call last)",
      "Cell \u001b[0;32mIn[6], line 18\u001b[0m\n\u001b[1;32m     15\u001b[0m res_shuffled \u001b[38;5;241m=\u001b[39m [df_hand_shuffled, df_learnt_shuffled]\n\u001b[1;32m     17\u001b[0m oracle \u001b[38;5;241m=\u001b[39m Human()\n\u001b[0;32m---> 18\u001b[0m res \u001b[38;5;241m=\u001b[39m oracle\u001b[38;5;241m.\u001b[39mlabel(res_shuffled,evaluation\u001b[38;5;241m=\u001b[39m\u001b[38;5;28;01mTrue\u001b[39;00m)\n\u001b[1;32m     19\u001b[0m res[\u001b[38;5;124m'\u001b[39m\u001b[38;5;124midentical\u001b[39m\u001b[38;5;124m'\u001b[39m] \u001b[38;5;241m=\u001b[39m ties\n\u001b[1;32m     20\u001b[0m create_folders(\u001b[38;5;124mf\u001b[39m\u001b[38;5;124m'\u001b[39m\u001b[38;5;124mresults/sudoku/real_case_\u001b[39m\u001b[38;5;132;01m{\u001b[39;00musername\u001b[38;5;132;01m}\u001b[39;00m\u001b[38;5;124m/\u001b[39m\u001b[38;5;124m'\u001b[39m)\n",
      "File \u001b[0;32m~/PycharmProjects/express_eval/utils/utils_classes.py:97\u001b[0m, in \u001b[0;36mHuman.label\u001b[0;34m(self, MUSes, evaluation)\u001b[0m\n\u001b[1;32m     95\u001b[0m selection \u001b[38;5;241m=\u001b[39m \u001b[38;5;28minput\u001b[39m(\u001b[38;5;124m\"\u001b[39m\u001b[38;5;124mEnter 1 for left Image , 2 for right Image 1, 0 for neither of the two\u001b[39m\u001b[38;5;124m\"\u001b[39m)\n\u001b[1;32m     96\u001b[0m clear_output(wait\u001b[38;5;241m=\u001b[39m\u001b[38;5;28;01mTrue\u001b[39;00m)\n\u001b[0;32m---> 97\u001b[0m selection \u001b[38;5;241m=\u001b[39m \u001b[38;5;28mint\u001b[39m(selection)\n\u001b[1;32m     98\u001b[0m selection \u001b[38;5;241m=\u001b[39m selection \u001b[38;5;241m-\u001b[39m \u001b[38;5;241m1\u001b[39m\n\u001b[1;32m     99\u001b[0m \u001b[38;5;28;01mif\u001b[39;00m selection\u001b[38;5;241m<\u001b[39m\u001b[38;5;241m0\u001b[39m:\n",
      "\u001b[0;31mValueError\u001b[0m: invalid literal for int() with base 10: 'a'"
     ]
    }
   ],
   "source": [
    "for step in [10,30,50]:\n",
    "    df_smus,df_learnt_baseline,df_learnt_machop = dict_df[step]\n",
    "    ties, df_smus_cleaned, df_learnt_machop_cleaned = count_and_remove_matching_hints(df_smus.copy(), df_learnt_machop.copy())\n",
    "    res = [df_smus_cleaned,df_learnt_machop_cleaned]\n",
    "    df_hand, df_learnt = res\n",
    "\n",
    "    # Get a random permutation of indices\n",
    "    shuffled_indices = np.random.permutation(len(df_hand))\n",
    "\n",
    "    # Apply the shuffled indices to both DataFrames\n",
    "    df_hand_shuffled = df_hand.iloc[shuffled_indices].reset_index(drop=True)\n",
    "    df_learnt_shuffled = df_learnt.iloc[shuffled_indices].reset_index(drop=True)\n",
    "\n",
    "    # Now you have shuffled DataFrames with the same row order\n",
    "    res_shuffled = [df_hand_shuffled, df_learnt_shuffled]\n",
    "\n",
    "    oracle = Human()\n",
    "    res = oracle.label(res_shuffled,evaluation=True)\n",
    "    res['identical'] = ties\n",
    "    create_folders(f'results/sudoku/real_case_{username}/')\n",
    "    with open(f'results/sudoku/real_case_{username}/SMUS_machop_{step}.json', \"w\") as json_file:\n",
    "        json.dump(res, json_file, indent=4)"
   ]
  },
  {
   "cell_type": "code",
   "execution_count": 53,
   "id": "dbb64ec81c5028d1",
   "metadata": {
    "ExecuteTime": {
     "end_time": "2025-04-30T12:58:09.744732Z",
     "start_time": "2025-04-30T12:58:07.792447Z"
    }
   },
   "outputs": [
    {
     "name": "stderr",
     "output_type": "stream",
     "text": [
      "100%|██████████████████████████████████████████████████████████████████████████████████████████████████████████████████████████████████████████████████████████████████████████████████████| 56/56 [01:32<00:00,  1.65s/it]"
     ]
    },
    {
     "name": "stdout",
     "output_type": "stream",
     "text": [
      "PLEASE REPORT TO MARCO THE FOLLOWING\n",
      "{'SMUS': 16, 'Learnt': 37, 'Draw': 3}\n"
     ]
    },
    {
     "name": "stderr",
     "output_type": "stream",
     "text": [
      "\n"
     ]
    }
   ],
   "source": [
    "for step in [10,30,50]:\n",
    "    df_smus,df_learnt_baseline,df_learnt_machop = dict_df[step]\n",
    "    ties, df_smus_cleaned, df_learnt_baseline_cleaned = count_and_remove_matching_hints(df_smus.copy(), df_learnt_baseline.copy())\n",
    "    res = [df_smus_cleaned,df_learnt_baseline_cleaned]\n",
    "    df_hand, df_learnt = res\n",
    "\n",
    "    # Get a random permutation of indices\n",
    "    shuffled_indices = np.random.permutation(len(df_hand))\n",
    "\n",
    "    # Apply the shuffled indices to both DataFrames\n",
    "    df_hand_shuffled = df_hand.iloc[shuffled_indices].reset_index(drop=True)\n",
    "    df_learnt_shuffled = df_learnt.iloc[shuffled_indices].reset_index(drop=True)\n",
    "\n",
    "    # Now you have shuffled DataFrames with the same row order\n",
    "    res_shuffled = [df_hand_shuffled, df_learnt_shuffled]\n",
    "\n",
    "    oracle = Human()\n",
    "    res = oracle.label(res_shuffled,evaluation=True)\n",
    "    res['identical'] = ties\n",
    "    create_folders(f'results/sudoku/real_case_{username}/')\n",
    "    with open(f'results/sudoku/real_case_{username}/SMUS_baseline_{step}.json', \"w\") as json_file:\n",
    "        json.dump(res, json_file, indent=4)"
   ]
  }
 ],
 "metadata": {
  "kernelspec": {
   "display_name": "Python 3 (ipykernel)",
   "language": "python",
   "name": "python3"
  },
  "language_info": {
   "codemirror_mode": {
    "name": "ipython",
    "version": 3
   },
   "file_extension": ".py",
   "mimetype": "text/x-python",
   "name": "python",
   "nbconvert_exporter": "python",
   "pygments_lexer": "ipython3",
   "version": "3.12.8"
  }
 },
 "nbformat": 4,
 "nbformat_minor": 5
}
